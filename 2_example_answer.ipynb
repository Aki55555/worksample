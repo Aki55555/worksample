課題A

問題１

THICKNESS = 0.00008

folded_thickness = THICKNESS*2**43

print("厚さ： {}メートル".format(folded_thickness))


問題２

THICKNESS = 0.00008

folded_thickness = THICKNESS*2**43

print("厚さ： {:.2f}万キロメートル".format(folded_thickness/10000000))


問題３

THICKNESS = 0.00008


for i in range(43):
    THICKNESS *= 2
    
print("厚さ： {:.2f}万メートル".format(THICKNESS/10000000) )


問題４

import time
start = time.time()

THICKNESS = 0.00008

for i in range(43):
     THICKNESS *= 2
    
print("厚さ： {:.2f}万メートル".format(THICKNESS/10000000) )
  
elapsed_time = time.time() - start
print("time : {}[s]".format(elapsed_time))


import time
start = time.time()
    
THICKNESS = 0.00008

folded_thickness = THICKNESS*2**43

print("厚さ： {:.2f}万キロメートル".format(folded_thickness/10000000))

elapsed_time = time.time() - start
print("time : {}[s]".format(elapsed_time))


問題５

T_list = []
for i in range(44):
    T_list.append(0.00008*2**i)

print(T_list)

len(T_list)


問題６

T_list = []
for i in range(44):
    T_list.append(0.00008*2**i)
    
import matplotlib.pyplot as plt
%matplotlib inline

plt.title("thickness of folded paper")
plt.xlabel("number of folds")
plt.ylabel("thickness[m]")
plt.plot(T_list)


問題７

パターン１

T_list = []
for i in range(44):
    T_list.append(0.00008*2**i)
    
import matplotlib.pyplot as plt
%matplotlib inline

plt.title("thickness of folded paper")
plt.xlabel("number of folds")
plt.ylabel("thickness[m]")
plt.plot(T_list,linewidth=5)

パターン２

T_list = []
for i in range(44):
    T_list.append(0.00008*2**i)
    
import matplotlib.pyplot as plt
%matplotlib inline

plt.title("thickness of folded paper")
plt.xlabel("number of folds")
plt.ylabel("thickness[m]")
plt.plot(T_list,linewidth=5, color='yellow')

パターン３

T_list = []
for i in range(44):
    T_list.append(0.00008*2**i)
    
import matplotlib.pyplot as plt
%matplotlib inline

plt.title("thickness of folded paper")
plt.xlabel("number of folds")
plt.ylabel("thickness[m]")
plt.plot(T_list,linewidth=5, color='yellow',linestyle='dashed')


